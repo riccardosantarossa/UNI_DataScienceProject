{
 "cells": [
  {
   "cell_type": "markdown",
   "id": "c601a444-134a-4f10-8865-d80e8dbcb0d8",
   "metadata": {},
   "source": [
    "Progetto di Fondamenti di Scienza dei dati e Laboratorio\n",
    "A.A. 2023/2024\n",
    "Santarosssa Riccardo\n"
   ]
  },
  {
   "cell_type": "code",
   "execution_count": 113,
   "id": "6eb51bc5-27a6-4fe0-8587-068b028cdc00",
   "metadata": {},
   "outputs": [],
   "source": [
    "import numpy as np\n",
    "import pandas as pd\n",
    "import matplotlib.pyplot as plt\n",
    "import seaborn as sns\n",
    "\n",
    "#Creazione dei dataframe utilizzando i file .csv\n",
    "allShips = pd.read_excel('../UNI_DataScienceProject/DataSets/allShips.xlsx').dropna()\n",
    "premiumShips = pd.read_excel('../UNI_DataScienceProject/DataSets/premiumShips.xlsx').dropna()\n",
    "freeShips = pd.read_excel('../UNI_DataScienceProject/DataSets/freeShips.xlsx').dropna()\n",
    "standardShips = pd.read_excel('../UNI_DataScienceProject/DataSets/standardShips.xlsx').dropna()\n"
   ]
  },
  {
   "cell_type": "code",
   "execution_count": 32,
   "id": "d583c780-6608-463e-bdd9-cd9fb75ad705",
   "metadata": {},
   "outputs": [],
   "source": [
    "#Costruzione del dataset con i miei dati (fonte: https://wows-numbers.com/)\n",
    "\n",
    "ships = pd.Series([\"Königsberg\", \"Langley\", \"Raimondo Montecuccoli\", \"Oktyabrskaya Revolutsiya\", \"Conte di Cavour\", \"Toulon\", \"Clemson\", \"T-22\", \n",
    "                  \"Karlsruhe\", \"Svietlana\", \"Kolberg\", \"Nicholas\", \"Bogatyr\", \"Orion\", \"Alberto di Giussano\", \"Arizona\", \"Maestrale\", \"Iron Duke\", \n",
    "                  \"V-170\", \"Taranto\", \"South Carolina\", \"Nazario Sauro\", \"Bellerophon\", \"Isokaze\", \"Curtatone\", \"Nino Bixio\", \"Dunquerque\",\n",
    "                  \"Dante Alighieri\", \"Erie\"])\n",
    "tier = pd.Series([5.0, 4.0, 5.0, 5.0, 5.0, 7.0, 4.0, 5.0,\n",
    "                 4.0, 4.0, 3.0, 5.0, 3.0, 4.0, 4.0, 6.0, 5.0, 5.0,\n",
    "                 4.0, 3.0, 3.0, 3.0, 3.0, 4.0, 2.0, 2.0, 6.0, \n",
    "                 4.0, 1.0])\n",
    "shipTipe = pd.Series([\"Cruiser\", \"Aircraft Carrier\", \"Cruiser\", \"Battleship\", \"Battleship\", \"Cruiser\", \"Destroyer\", \"Destroyer\",\n",
    "                     \"Cruiser\", \"Cruiser\", \"Cruiser\", \"Destroyer\", \"Cruiser\", \"BattleShip\", \"Cruiser\", \"Battleship\", \"Destroyer\", \"Battleship\",\n",
    "                     \"Destroyer\", \"Cruiser\", \"Battleship\", \"Cruiser\", \"Battleship\", \"Destroyer\", \"Destroyer\", \"Cruiser\", \"Battleship\",\n",
    "                      \"Battleship\", \"Cruiser\"])\n",
    "nations = pd.Series([\"Germany\", \"U.S.A.\", \"U.S.S.R.\", \"Italy\", \"France\", \"U.S.A.\", \"Germany\",\n",
    "                    \"Germany\", \"U.S.S.R.\", \"Germany\", \"U.S.A.\" \"U.S.S.R.\", \"U.K.\", \"Italy\", \"U.S.A.\", \"Italy\", \"U.K.\",\n",
    "                    \"Germany\", \"Italy\", \"U.S.A.\", \"Italy\", \"U.K.\", \"Japan\", \"Italy\", \"Italy\", \"France\",\n",
    "                    \"Italy\", \"U.S.A.\"])\n",
    "battles = pd.Series([40, 18, 17, 16, 12, 11, 10, 10,\n",
    "                    9, 8, 8, 8, 8, 8, 7, 7, 6, 6,\n",
    "                    5, 5, 4, 4, 3, 3, 3, 2, 1,\n",
    "                    1, 1])\n",
    "winrate = pd.Series([0.3250, 0.4444, 0.5294, 0.3750, 0.3333, 0.6364, 0.6000, 0.6000,\n",
    "                    0.4444, 0.3750, 0.5000, 0.5000, 0.3750, 0.6250, 0.4286, 0.4286, 0.1667, 0.4000,\n",
    "                    0.4000, 0.4000, 0.7500, 0.5000, 0.6667, 0.0000, 0.3333, 0.5000, 1.0000,\n",
    "                    1.0000, 0.0000])\n",
    "frags = pd.Series([0.30, 0.28, 0.29, 0.63, 0.42, 0.73, 2.40, 0.70,\n",
    "                  2.22, 1.88, 1.75, 0.25, 1.25, 1.38, 0.43, 0.71, 0.17, 0.40,\n",
    "                  1.00, 0.80, 1.75, 1.25, 0.67, 1.33, 1.67, 1.50, 0.00,\n",
    "                  1.00, 0.00])\n",
    "dmg = pd.Series([12761, 19388, 8266, 23501, 18510, 26481, 33608, 8285, \n",
    "                 41662, 31753, 35807, 4181, 29662, 41810, 19425, 32557, 2325, 34000,\n",
    "                 23217, 18401, 47259, 31360, 20941, 26917, 24523, 27659, 10394, \n",
    "                 59023, 11680])\n",
    "\n",
    "myStatsSet = pd.DataFrame({'Warship' : ships, 'Tier': tier, 'Type' : shipTipe, 'Nation': nations, 'Battles' : battles,\n",
    "                          'Win rate' : winrate, 'Avg. frags' : frags, 'Avg. damage' : dmg})\n",
    "\n"
   ]
  },
  {
   "cell_type": "code",
   "execution_count": 124,
   "id": "95e3cbd8-e2b2-4d31-90b5-e5d9dc06f3fc",
   "metadata": {},
   "outputs": [
    {
     "name": "stdout",
     "output_type": "stream",
     "text": [
      "Warship                   object\n",
      "Tier                     float64\n",
      "Type                      object\n",
      "Nation                    object\n",
      "Battles                   object\n",
      "Win rate                  object\n",
      "Avg. frags                object\n",
      "Avg. damage               object\n",
      "Avg. experience           object\n",
      "Avg. planes destroyed     object\n",
      "Kills / deaths            object\n",
      "dtype: object\n"
     ]
    }
   ],
   "source": [
    "#Distribuzione della tipologia di navi giocate da me e dal server pubblico\n",
    "\n",
    "#Conversione a tipo numerico della colonna Battles\n",
    "print(allShips.dtypes)\n",
    "    \n",
    "\n",
    "#Raggruppamento e somma delle battaglie per ogni classe navale\n",
    "\n",
    "#Grafico a torta che definisce la distribuzione di utilizzo dei vari tipi di nave\n",
    "#plt.figure(figsize = (8,5))\n",
    "#plt.pie(dataCount)\n",
    "#plt.show()"
   ]
  },
  {
   "cell_type": "code",
   "execution_count": 31,
   "id": "61f15d36-6887-4e06-9bf1-46a849e4beba",
   "metadata": {},
   "outputs": [
    {
     "data": {
      "text/plain": [
       "<Figure size 800x500 with 0 Axes>"
      ]
     },
     "metadata": {},
     "output_type": "display_data"
    },
    {
     "data": {
      "image/png": "[encoded data removed]",
      "text/plain": [
       "<Figure size 640x480 with 1 Axes>"
      ]
     },
     "metadata": {},
     "output_type": "display_data"
    }
   ],
   "source": [
    "#Piccola panoramica dei dati confrontati ai miei \n",
    "\n",
    "#Filtro dei dati per tipologia di nave e per navi da me possedute\n",
    "cruiserData = allShips[allShips['Type'] == 'Cruiser'].copy()\n",
    "myCruiserData = myStatsSet[myStatsSet['Type'] == 'Cruiser'].copy()\n",
    "\n",
    "cruiserData['Win rate'] = cruiserData['Win rate']*100\n",
    "myCruiserData['Win rate'] = myCruiserData['Win rate']*100\n",
    "\n",
    "#Winrate del tipo \"Cruiser\" sul server europeo a confronto con il mio, diviso per Tier\n",
    "\n",
    "#Creazione della figura\n",
    "sns.set(style=\"whitegrid\")\n",
    "plt.figure(figsize = (8, 5))\n",
    "\n",
    "#Creazione dei grafici sovrapposti\n",
    "sub = plt.subplots()\n",
    "plt.ylim(40, 70)\n",
    "sub = sns.barplot(x = 'Tier', y = 'Win rate', data = cruiserData, errorbar = None, color= '#D62728', label = 'Winrate server pubblico')\n",
    "sub = sns.barplot(x ='Tier', y ='Win rate', data = myCruiserData , errorbar = None, color = '#1F77B4', alpha = 0.65, label = 'Winrate del mio profilo')\n",
    "sub.set(xlabel = 'Tier della nave', ylabel = 'Winrate in %') \n",
    "plt.show()"
   ]
  },
  {
   "cell_type": "code",
   "execution_count": 14,
   "id": "8a199db5-80ee-4ce6-82fb-08fbc882e9ab",
   "metadata": {},
   "outputs": [
    {
     "data": {
      "text/html": [
       "<div>\n",
       "<style scoped>\n",
       "    .dataframe tbody tr th:only-of-type {\n",
       "        vertical-align: middle;\n",
       "    }\n",
       "\n",
       "    .dataframe tbody tr th {\n",
       "        vertical-align: top;\n",
       "    }\n",
       "\n",
       "    .dataframe thead th {\n",
       "        text-align: right;\n",
       "    }\n",
       "</style>\n",
       "<table border=\"1\" class=\"dataframe\">\n",
       "  <thead>\n",
       "    <tr style=\"text-align: right;\">\n",
       "      <th></th>\n",
       "      <th>Warship</th>\n",
       "      <th>Tier</th>\n",
       "      <th>Type</th>\n",
       "      <th>Nation</th>\n",
       "      <th>Battles</th>\n",
       "      <th>Win rate</th>\n",
       "      <th>Avg. frags</th>\n",
       "      <th>Avg. damage</th>\n",
       "    </tr>\n",
       "  </thead>\n",
       "  <tbody>\n",
       "    <tr>\n",
       "      <th>5</th>\n",
       "      <td>Toulon</td>\n",
       "      <td>7.0</td>\n",
       "      <td>Cruiser</td>\n",
       "      <td>U.S.A.</td>\n",
       "      <td>11</td>\n",
       "      <td>0.6364</td>\n",
       "      <td>0.73</td>\n",
       "      <td>26481</td>\n",
       "    </tr>\n",
       "  </tbody>\n",
       "</table>\n",
       "</div>"
      ],
      "text/plain": [
       "  Warship  Tier     Type  Nation  Battles  Win rate  Avg. frags  Avg. damage\n",
       "5  Toulon   7.0  Cruiser  U.S.A.       11    0.6364        0.73        26481"
      ]
     },
     "execution_count": 14,
     "metadata": {},
     "output_type": "execute_result"
    }
   ],
   "source": [
    "#Analisi dei miei cruiser al Tier 7 per vedere come la mia performance è rapportata rispetto al server europeo\n",
    "\n",
    "#Estrazione dei miei Cruisers tier 7\n",
    "myTier7Cruisers = myStatsSet[ (myStatsSet['Type'] == 'Cruiser') & (myStatsSet['Tier'] == 7.0)].copy()\n",
    "\n",
    "#Distribuzione dei "
   ]
  }
 ],
 "metadata": {
  "kernelspec": {
   "display_name": "Python 3 (ipykernel)",
   "language": "python",
   "name": "python3"
  },
  "language_info": {
   "codemirror_mode": {
    "name": "ipython",
    "version": 3
   },
   "file_extension": ".py",
   "mimetype": "text/x-python",
   "name": "python",
   "nbconvert_exporter": "python",
   "pygments_lexer": "ipython3",
   "version": "3.10.11"
  }
 },
 "nbformat": 4,
 "nbformat_minor": 5
}
