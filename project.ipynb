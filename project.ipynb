{
 "cells": [
  {
   "cell_type": "markdown",
   "id": "c601a444-134a-4f10-8865-d80e8dbcb0d8",
   "metadata": {},
   "source": [
    "Progetto di Fondamenti di Scienza dei dati e Laboratorio\n",
    "A.A. 2023/2024\n",
    "Santarosssa Riccardo\n"
   ]
  },
  {
   "cell_type": "code",
   "execution_count": 18,
   "id": "6eb51bc5-27a6-4fe0-8587-068b028cdc00",
   "metadata": {},
   "outputs": [],
   "source": [
    "import numpy as np\n",
    "import os\n",
    "import pandas as pd\n",
    "\n",
    "#Creazione dei dataframe utilizzando i file .csv\n",
    "allShips = pd.read_excel('../UNI_DataScienceProject/DataSets/allShips.xlsx').dropna()\n",
    "premiumShips = pd.read_excel('../UNI_DataScienceProject/DataSets/premiumShips.xlsx').dropna()\n",
    "freeShips = pd.read_excel('../UNI_DataScienceProject/DataSets/freeShips.xlsx').dropna()\n",
    "standardShips = pd.read_excel('../UNI_DataScienceProject/DataSets/standardShips.xlsx').dropna()\n"
   ]
  },
  {
   "cell_type": "code",
   "execution_count": null,
   "id": "d583c780-6608-463e-bdd9-cd9fb75ad705",
   "metadata": {},
   "outputs": [],
   "source": [
    "#Costruzione del dataset con i miei dati (fonte: https://wows-numbers.com/)\n",
    "\n",
    "ships = pd.Series([\"Königsberg\", \"Langley\", \"Raimondo Montecuccoli\", \"Oktyabrskaya Revolutsiya\", \"Conte di Cavour\", \"Toulon\", \"Clemson\", \"T-22\", \n",
    "                  \"Karlsruhe\", \"Svietlana\", \"Kolberg\", \"Nicholas\", \"Bogatyr\", \"Orion\", \"Alberto di Giussano\", \"Arizona\", \"Maestrale\", \"Iron Duke\", \n",
    "                  \"V-170\", \"Taranto\", \"South Carolina\", \"Nazario Sauro\", \"Bellerophon\", \"Isokaze\", \"Curtatone\", \"Nino Bixio\", \"Dunquerque\",\n",
    "                  \"Dante Alighieri\", \"Erie\"])\n",
    "shipTipe = pd.Series([\"Cruiser\", \"Aircraft Carrier\", \"Cruiser\", \"Battleship\", \"Battleship\", \"Cruiser\", \"Destroyer\", \"Destroyer\",\n",
    "                     \"Cruiser\", \"Cruiser\", \"Cruiser\", \"Destroyer\", \"Cruiser\", \"BattleShip\", \"Cruiser\", \"Battleship\", \"Destroyer\", \"Battleship\",\n",
    "                     \"Destroyer\", \"Cruiser\", \"Battleship\", \"Cruiser\", \"Battleship\", \"Destroyer\", \"Destroyer\", \"Cruiser\", \"Battleship\",\n",
    "                      \"Battleship\", \"Cruiser\"])\n",
    "nations = pd.Series([\"Germany\", \"U.S.A.\", \"U.S.S.R.\", \"Italy\", \"France\", \"U.S.A.\", \"Germany\",\n",
    "                    \"Germany\", \"U.S.S.R.\", \"Germany\", \"U.S.A.\" \"U.S.S.R.\", \"U.K.\", \"Italy\", \"U.S.A.\", \"Italy\", \"U.K.\",\n",
    "                    \"Germany\", \"Italy\", \"U.S.A.\", \"Italy\", \"U.K.\", \"Japan\", \"Italy\", \"Italy\", \"France\",\n",
    "                    \"Italy\", \"U.S.A.\"])\n",
    "battles = pd.Series([40, 18, 17, 16, 12, 11, 10, 10,\n",
    "                    9, 8, 8, 8, 8, 8, 7, 7, 6, 6,\n",
    "                    5, 5, 4, 4, 3, 3, 3, 2, 1,\n",
    "                    1, 1])\n",
    "winrate = pd.Series([0.3250, 0.4444, 0.5294, 0.3750, 0.3333, 0.6364, 0.6000, 0.6000,\n",
    "                    0.4444, 0.3750, 0.5000, 0.5000, 0.3750, 0.6250, 0.4286, 0.4286, 0.1667, 0.4000,\n",
    "                    0.4000, 0.4000, 0.7500, 0.5000, 0.6667, 0.0000, 0.3333, 0.5000, 1.0000,\n",
    "                    1.0000, 0.0000])\n",
    "frags = pd.Series([0.30, 0.28, 0.29, 0.63, 0.42, 0.73, 2.40, 0.70,\n",
    "                  2.22, 1.88, 1.75, 0.25, 1.25, 1.38, 0.43, 0.71, 0.17, 0.40,\n",
    "                  1.00, 0.80, 1.75, 1.25, 0.67, 1.33, 1.67, 1.50, 0.00,\n",
    "                  1.00, 0.00])\n",
    "dmg = "
   ]
  },
  {
   "cell_type": "code",
   "execution_count": 30,
   "id": "61f15d36-6887-4e06-9bf1-46a849e4beba",
   "metadata": {},
   "outputs": [
    {
     "data": {
      "text/html": [
       "<div>\n",
       "<style scoped>\n",
       "    .dataframe tbody tr th:only-of-type {\n",
       "        vertical-align: middle;\n",
       "    }\n",
       "\n",
       "    .dataframe tbody tr th {\n",
       "        vertical-align: top;\n",
       "    }\n",
       "\n",
       "    .dataframe thead th {\n",
       "        text-align: right;\n",
       "    }\n",
       "</style>\n",
       "<table border=\"1\" class=\"dataframe\">\n",
       "  <thead>\n",
       "    <tr style=\"text-align: right;\">\n",
       "      <th></th>\n",
       "      <th>Warship</th>\n",
       "      <th>Tier</th>\n",
       "      <th>Type</th>\n",
       "      <th>Nation</th>\n",
       "      <th>Battles</th>\n",
       "      <th>Win rate</th>\n",
       "      <th>Avg. frags</th>\n",
       "      <th>Avg. damage</th>\n",
       "      <th>Avg. experience</th>\n",
       "      <th>Avg. planes destroyed</th>\n",
       "      <th>Kills / deaths</th>\n",
       "    </tr>\n",
       "  </thead>\n",
       "  <tbody>\n",
       "    <tr>\n",
       "      <th>133</th>\n",
       "      <td>Orion</td>\n",
       "      <td>4.0</td>\n",
       "      <td>Battleship</td>\n",
       "      <td>U.K.</td>\n",
       "      <td>1 619 242</td>\n",
       "      <td>0.5304</td>\n",
       "      <td>1.08</td>\n",
       "      <td>42 013</td>\n",
       "      <td>761</td>\n",
       "      <td>1.39</td>\n",
       "      <td>2.16</td>\n",
       "    </tr>\n",
       "  </tbody>\n",
       "</table>\n",
       "</div>"
      ],
      "text/plain": [
       "    Warship  Tier        Type Nation    Battles Win rate Avg. frags  \\\n",
       "133   Orion   4.0  Battleship   U.K.  1 619 242   0.5304       1.08   \n",
       "\n",
       "    Avg. damage Avg. experience Avg. planes destroyed Kills / deaths  \n",
       "133      42 013             761                  1.39           2.16  "
      ]
     },
     "execution_count": 30,
     "metadata": {},
     "output_type": "execute_result"
    }
   ],
   "source": [
    "#Piccola panoramica dei dati confrontati ai miei \n",
    "\n",
    "#Filtro dei dati per tipologia di nave e per navi da me possedute\n",
    "destroyerData = allShips[allShips[\"Warship\"] == \"Orion\"]\n",
    "destroyerData\n",
    "\n",
    "#Winrate del tipo \"Destroyer\" sul server europeo\n"
   ]
  }
 ],
 "metadata": {
  "kernelspec": {
   "display_name": "Python 3 (ipykernel)",
   "language": "python",
   "name": "python3"
  },
  "language_info": {
   "codemirror_mode": {
    "name": "ipython",
    "version": 3
   },
   "file_extension": ".py",
   "mimetype": "text/x-python",
   "name": "python",
   "nbconvert_exporter": "python",
   "pygments_lexer": "ipython3",
   "version": "3.10.11"
  }
 },
 "nbformat": 4,
 "nbformat_minor": 5
}
