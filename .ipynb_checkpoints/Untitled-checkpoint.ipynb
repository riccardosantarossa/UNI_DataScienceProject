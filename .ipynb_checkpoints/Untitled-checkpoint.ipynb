{
 "cells": [
  {
   "cell_type": "markdown",
   "id": "621baf39-d827-43d4-baac-8d6cfdddf71d",
   "metadata": {
    "editable": true,
    "slideshow": {
     "slide_type": "slide"
    },
    "tags": []
   },
   "source": [
    "# Prima slide\n",
    "\n",
    "testo ahahaha\n"
   ]
  },
  {
   "cell_type": "code",
   "execution_count": 1,
   "id": "c3bc69ca-89a2-4dc4-885f-6c87573598c9",
   "metadata": {
    "editable": true,
    "slideshow": {
     "slide_type": "subslide"
    },
    "tags": []
   },
   "outputs": [
    {
     "name": "stdout",
     "output_type": "stream",
     "text": [
      "Ciao\n"
     ]
    }
   ],
   "source": [
    "print(\"Ciao\")"
   ]
  },
  {
   "cell_type": "markdown",
   "id": "79dd3516-f93e-47ac-95c4-766adfc28b55",
   "metadata": {
    "editable": true,
    "slideshow": {
     "slide_type": "slide"
    },
    "tags": []
   },
   "source": [
    "# Seconda slide\n",
    "\n",
    "testo 2  ahahaha"
   ]
  },
  {
   "cell_type": "markdown",
   "id": "d19aede9-f077-452e-99c8-4dbb788d693d",
   "metadata": {
    "editable": true,
    "slideshow": {
     "slide_type": "fragment"
    },
    "tags": []
   },
   "source": [
    "**subslide della seconda** "
   ]
  }
 ],
 "metadata": {
  "kernelspec": {
   "display_name": "Python 3 (ipykernel)",
   "language": "python",
   "name": "python3"
  },
  "language_info": {
   "codemirror_mode": {
    "name": "ipython",
    "version": 3
   },
   "file_extension": ".py",
   "mimetype": "text/x-python",
   "name": "python",
   "nbconvert_exporter": "python",
   "pygments_lexer": "ipython3",
   "version": "3.10.11"
  }
 },
 "nbformat": 4,
 "nbformat_minor": 5
}
